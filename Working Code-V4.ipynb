{
 "cells": [
  {
   "cell_type": "markdown",
   "id": "277078a2",
   "metadata": {},
   "source": [
    "# What factors most affect happiness?\n",
    "##### Data Analysis for Udacity by Mateusz Mikulski\n",
    "\n",
    "### Dataset Description\n",
    "\n",
    "Gapminder took a global poll where participants were asked where, on a scale of 1 being the worst possible life and 10 being the best possible life, where they felt they personally landed at the time of asking. These responses were ranked by year and by national average response score.\n",
    "\n",
    "This data can be located at https://www.gapminder.org/data/\n",
    "\n",
    "\n",
    "\n",
    "The responses intrigued me, as some nations ranked higher than others, and wanted to see what correlations happiness had against other metrics. I will analyze the data against the following three other Gapminder data sets, as I want to see which of the following factors has the biggest effect on happiness.\n",
    "\n",
    "Our three comparative factors:\n",
    "\n",
    "#### Income - Mean household income\n",
    "#### Life expectancy - the average number of years a newborn child would live\n",
    "#### Gini - inequality coefficient (higher meaning more inequality)\n"
   ]
  },
  {
   "cell_type": "markdown",
   "id": "540a795d",
   "metadata": {},
   "source": [
    "### Data Wrangling\n",
    "\n",
    "First, we will import and look at our raw data sets. Note, that the happiness index started being measured in 2004, and the other data sets go back much further. For the sake of this experiment, we will have to clean our supplemental data sets to only include data from 2020."
   ]
  },
  {
   "cell_type": "code",
   "execution_count": 51,
   "id": "bd8c6db2",
   "metadata": {},
   "outputs": [
    {
     "data": {
      "text/html": [
       "<div>\n",
       "<style scoped>\n",
       "    .dataframe tbody tr th:only-of-type {\n",
       "        vertical-align: middle;\n",
       "    }\n",
       "\n",
       "    .dataframe tbody tr th {\n",
       "        vertical-align: top;\n",
       "    }\n",
       "\n",
       "    .dataframe thead th {\n",
       "        text-align: right;\n",
       "    }\n",
       "</style>\n",
       "<table border=\"1\" class=\"dataframe\">\n",
       "  <thead>\n",
       "    <tr style=\"text-align: right;\">\n",
       "      <th></th>\n",
       "      <th>country</th>\n",
       "      <th>2004</th>\n",
       "      <th>2005</th>\n",
       "      <th>2006</th>\n",
       "      <th>2007</th>\n",
       "      <th>2008</th>\n",
       "      <th>2009</th>\n",
       "      <th>2010</th>\n",
       "      <th>2011</th>\n",
       "      <th>2012</th>\n",
       "      <th>2013</th>\n",
       "      <th>2014</th>\n",
       "      <th>2015</th>\n",
       "      <th>2016</th>\n",
       "      <th>2017</th>\n",
       "      <th>2018</th>\n",
       "      <th>2019</th>\n",
       "      <th>2020</th>\n",
       "    </tr>\n",
       "  </thead>\n",
       "  <tbody>\n",
       "    <tr>\n",
       "      <th>0</th>\n",
       "      <td>Afghanistan</td>\n",
       "      <td>NaN</td>\n",
       "      <td>NaN</td>\n",
       "      <td>NaN</td>\n",
       "      <td>37.2</td>\n",
       "      <td>44.0</td>\n",
       "      <td>47.6</td>\n",
       "      <td>38.3</td>\n",
       "      <td>37.8</td>\n",
       "      <td>35.7</td>\n",
       "      <td>31.3</td>\n",
       "      <td>39.8</td>\n",
       "      <td>42.2</td>\n",
       "      <td>26.6</td>\n",
       "      <td>26.9</td>\n",
       "      <td>23.8</td>\n",
       "      <td>NaN</td>\n",
       "      <td>24.0</td>\n",
       "    </tr>\n",
       "    <tr>\n",
       "      <th>1</th>\n",
       "      <td>Angola</td>\n",
       "      <td>NaN</td>\n",
       "      <td>NaN</td>\n",
       "      <td>NaN</td>\n",
       "      <td>NaN</td>\n",
       "      <td>NaN</td>\n",
       "      <td>NaN</td>\n",
       "      <td>55.9</td>\n",
       "      <td>43.6</td>\n",
       "      <td>39.4</td>\n",
       "      <td>38.0</td>\n",
       "      <td>NaN</td>\n",
       "      <td>NaN</td>\n",
       "      <td>NaN</td>\n",
       "      <td>NaN</td>\n",
       "      <td>NaN</td>\n",
       "      <td>NaN</td>\n",
       "      <td>NaN</td>\n",
       "    </tr>\n",
       "    <tr>\n",
       "      <th>2</th>\n",
       "      <td>Albania</td>\n",
       "      <td>NaN</td>\n",
       "      <td>NaN</td>\n",
       "      <td>46.3</td>\n",
       "      <td>NaN</td>\n",
       "      <td>54.9</td>\n",
       "      <td>52.7</td>\n",
       "      <td>58.7</td>\n",
       "      <td>55.1</td>\n",
       "      <td>45.5</td>\n",
       "      <td>48.1</td>\n",
       "      <td>46.1</td>\n",
       "      <td>45.1</td>\n",
       "      <td>46.4</td>\n",
       "      <td>50.0</td>\n",
       "      <td>50.0</td>\n",
       "      <td>53.6</td>\n",
       "      <td>52.0</td>\n",
       "    </tr>\n",
       "    <tr>\n",
       "      <th>3</th>\n",
       "      <td>United Arab Emirates</td>\n",
       "      <td>NaN</td>\n",
       "      <td>67.3</td>\n",
       "      <td>NaN</td>\n",
       "      <td>NaN</td>\n",
       "      <td>68.7</td>\n",
       "      <td>71.0</td>\n",
       "      <td>71.2</td>\n",
       "      <td>72.2</td>\n",
       "      <td>66.2</td>\n",
       "      <td>65.4</td>\n",
       "      <td>65.7</td>\n",
       "      <td>68.3</td>\n",
       "      <td>70.4</td>\n",
       "      <td>66.0</td>\n",
       "      <td>67.1</td>\n",
       "      <td>64.6</td>\n",
       "      <td>65.8</td>\n",
       "    </tr>\n",
       "    <tr>\n",
       "      <th>4</th>\n",
       "      <td>Argentina</td>\n",
       "      <td>NaN</td>\n",
       "      <td>63.1</td>\n",
       "      <td>60.7</td>\n",
       "      <td>59.6</td>\n",
       "      <td>64.2</td>\n",
       "      <td>64.4</td>\n",
       "      <td>67.8</td>\n",
       "      <td>64.7</td>\n",
       "      <td>65.8</td>\n",
       "      <td>66.7</td>\n",
       "      <td>67.0</td>\n",
       "      <td>64.3</td>\n",
       "      <td>60.4</td>\n",
       "      <td>57.9</td>\n",
       "      <td>60.9</td>\n",
       "      <td>59.0</td>\n",
       "      <td>59.7</td>\n",
       "    </tr>\n",
       "  </tbody>\n",
       "</table>\n",
       "</div>"
      ],
      "text/plain": [
       "                country  2004  2005  2006  2007  2008  2009  2010  2011  2012  \\\n",
       "0           Afghanistan   NaN   NaN   NaN  37.2  44.0  47.6  38.3  37.8  35.7   \n",
       "1                Angola   NaN   NaN   NaN   NaN   NaN   NaN  55.9  43.6  39.4   \n",
       "2               Albania   NaN   NaN  46.3   NaN  54.9  52.7  58.7  55.1  45.5   \n",
       "3  United Arab Emirates   NaN  67.3   NaN   NaN  68.7  71.0  71.2  72.2  66.2   \n",
       "4             Argentina   NaN  63.1  60.7  59.6  64.2  64.4  67.8  64.7  65.8   \n",
       "\n",
       "   2013  2014  2015  2016  2017  2018  2019  2020  \n",
       "0  31.3  39.8  42.2  26.6  26.9  23.8   NaN  24.0  \n",
       "1  38.0   NaN   NaN   NaN   NaN   NaN   NaN   NaN  \n",
       "2  48.1  46.1  45.1  46.4  50.0  50.0  53.6  52.0  \n",
       "3  65.4  65.7  68.3  70.4  66.0  67.1  64.6  65.8  \n",
       "4  66.7  67.0  64.3  60.4  57.9  60.9  59.0  59.7  "
      ]
     },
     "execution_count": 51,
     "metadata": {},
     "output_type": "execute_result"
    }
   ],
   "source": [
    "import numpy as np\n",
    "import pandas as pd \n",
    "import matplotlib.pyplot as plt\n",
    "import statistics as stats\n",
    "from sklearn import datasets, linear_model\n",
    "from sklearn.metrics import mean_squared_error, r2_score\n",
    "import scipy.stats\n",
    "\n",
    "happiness = pd.read_csv('happiness.csv', sep = ',')\n",
    "incomeraw = pd.read_csv('income.csv', sep = ',')\n",
    "lifeexpectancyraw = pd.read_csv('life_expectancy.csv', sep = ',')\n",
    "giniraw = pd.read_csv('gini.csv', sep = ',')\n",
    "\n",
    "happiness.head()"
   ]
  },
  {
   "cell_type": "markdown",
   "id": "25cd3ccc",
   "metadata": {},
   "source": [
    "### Data cleanup:\n",
    "We have to clean up our data sets, since we will *only* want to look at data from 2020 for each metric, and compare our metrics against each other. In this phase, we are making all of our datasets the same length horizontally."
   ]
  },
  {
   "cell_type": "code",
   "execution_count": 52,
   "id": "8408a099",
   "metadata": {},
   "outputs": [
    {
     "data": {
      "text/html": [
       "<div>\n",
       "<style scoped>\n",
       "    .dataframe tbody tr th:only-of-type {\n",
       "        vertical-align: middle;\n",
       "    }\n",
       "\n",
       "    .dataframe tbody tr th {\n",
       "        vertical-align: top;\n",
       "    }\n",
       "\n",
       "    .dataframe thead th {\n",
       "        text-align: right;\n",
       "    }\n",
       "</style>\n",
       "<table border=\"1\" class=\"dataframe\">\n",
       "  <thead>\n",
       "    <tr style=\"text-align: right;\">\n",
       "      <th></th>\n",
       "      <th>country</th>\n",
       "      <th>2020</th>\n",
       "    </tr>\n",
       "  </thead>\n",
       "  <tbody>\n",
       "    <tr>\n",
       "      <th>0</th>\n",
       "      <td>Afghanistan</td>\n",
       "      <td>24.0</td>\n",
       "    </tr>\n",
       "    <tr>\n",
       "      <th>1</th>\n",
       "      <td>Angola</td>\n",
       "      <td>NaN</td>\n",
       "    </tr>\n",
       "    <tr>\n",
       "      <th>2</th>\n",
       "      <td>Albania</td>\n",
       "      <td>52.0</td>\n",
       "    </tr>\n",
       "    <tr>\n",
       "      <th>3</th>\n",
       "      <td>United Arab Emirates</td>\n",
       "      <td>65.8</td>\n",
       "    </tr>\n",
       "    <tr>\n",
       "      <th>4</th>\n",
       "      <td>Argentina</td>\n",
       "      <td>59.7</td>\n",
       "    </tr>\n",
       "  </tbody>\n",
       "</table>\n",
       "</div>"
      ],
      "text/plain": [
       "                country  2020\n",
       "0           Afghanistan  24.0\n",
       "1                Angola   NaN\n",
       "2               Albania  52.0\n",
       "3  United Arab Emirates  65.8\n",
       "4             Argentina  59.7"
      ]
     },
     "execution_count": 52,
     "metadata": {},
     "output_type": "execute_result"
    }
   ],
   "source": [
    "happiness = happiness.iloc[:, np.r_[0, 17:18]] #snipping excess dates from dataframe, keeping only '2020'\n",
    "happiness.head()"
   ]
  },
  {
   "cell_type": "markdown",
   "id": "86770427",
   "metadata": {},
   "source": [
    "We'll also be changing the '2020' column to the name of the data set we are working with and shorten our dataframe names."
   ]
  },
  {
   "cell_type": "code",
   "execution_count": 53,
   "id": "f11ed046",
   "metadata": {
    "scrolled": true
   },
   "outputs": [
    {
     "data": {
      "text/html": [
       "<div>\n",
       "<style scoped>\n",
       "    .dataframe tbody tr th:only-of-type {\n",
       "        vertical-align: middle;\n",
       "    }\n",
       "\n",
       "    .dataframe tbody tr th {\n",
       "        vertical-align: top;\n",
       "    }\n",
       "\n",
       "    .dataframe thead th {\n",
       "        text-align: right;\n",
       "    }\n",
       "</style>\n",
       "<table border=\"1\" class=\"dataframe\">\n",
       "  <thead>\n",
       "    <tr style=\"text-align: right;\">\n",
       "      <th></th>\n",
       "      <th>country</th>\n",
       "      <th>life expectancy</th>\n",
       "    </tr>\n",
       "  </thead>\n",
       "  <tbody>\n",
       "    <tr>\n",
       "      <th>0</th>\n",
       "      <td>Afghanistan</td>\n",
       "      <td>64.0</td>\n",
       "    </tr>\n",
       "    <tr>\n",
       "      <th>1</th>\n",
       "      <td>Angola</td>\n",
       "      <td>65.8</td>\n",
       "    </tr>\n",
       "    <tr>\n",
       "      <th>2</th>\n",
       "      <td>Albania</td>\n",
       "      <td>78.7</td>\n",
       "    </tr>\n",
       "    <tr>\n",
       "      <th>3</th>\n",
       "      <td>Andorra</td>\n",
       "      <td>NaN</td>\n",
       "    </tr>\n",
       "    <tr>\n",
       "      <th>4</th>\n",
       "      <td>United Arab Emirates</td>\n",
       "      <td>74.2</td>\n",
       "    </tr>\n",
       "    <tr>\n",
       "      <th>5</th>\n",
       "      <td>Argentina</td>\n",
       "      <td>76.9</td>\n",
       "    </tr>\n",
       "    <tr>\n",
       "      <th>6</th>\n",
       "      <td>Armenia</td>\n",
       "      <td>76.0</td>\n",
       "    </tr>\n",
       "    <tr>\n",
       "      <th>7</th>\n",
       "      <td>Antigua and Barbuda</td>\n",
       "      <td>76.5</td>\n",
       "    </tr>\n",
       "    <tr>\n",
       "      <th>8</th>\n",
       "      <td>Australia</td>\n",
       "      <td>83.2</td>\n",
       "    </tr>\n",
       "    <tr>\n",
       "      <th>9</th>\n",
       "      <td>Austria</td>\n",
       "      <td>82.4</td>\n",
       "    </tr>\n",
       "  </tbody>\n",
       "</table>\n",
       "</div>"
      ],
      "text/plain": [
       "                country  life expectancy\n",
       "0           Afghanistan             64.0\n",
       "1                Angola             65.8\n",
       "2               Albania             78.7\n",
       "3               Andorra              NaN\n",
       "4  United Arab Emirates             74.2\n",
       "5             Argentina             76.9\n",
       "6               Armenia             76.0\n",
       "7   Antigua and Barbuda             76.5\n",
       "8             Australia             83.2\n",
       "9               Austria             82.4"
      ]
     },
     "execution_count": 53,
     "metadata": {},
     "output_type": "execute_result"
    }
   ],
   "source": [
    "h = happiness.rename(columns = {'2020':'happiness'})\n",
    "h.set_index('country')\n",
    "gini = giniraw.iloc[:, np.r_[0, 222:223]]\n",
    "g = gini.rename(columns = {'2020':'gini'})\n",
    "g.set_index('country')\n",
    "income = incomeraw.iloc[:, np.r_[0, 222:223]]\n",
    "i = income.rename(columns = {'2020':'income'})\n",
    "i.set_index('country')\n",
    "lifeexpectancy = lifeexpectancyraw.iloc[:, np.r_[0, 222:223]]\n",
    "l = lifeexpectancy.rename(columns = {'2020':'life expectancy'})\n",
    "l.set_index('country')\n",
    "\n",
    "l.head(10)"
   ]
  },
  {
   "cell_type": "markdown",
   "id": "9273b33c",
   "metadata": {},
   "source": [
    "I noticed that the 'income' data set has values of thousand in k. "
   ]
  },
  {
   "cell_type": "code",
   "execution_count": 54,
   "id": "bb853e57",
   "metadata": {},
   "outputs": [
    {
     "data": {
      "text/html": [
       "<div>\n",
       "<style scoped>\n",
       "    .dataframe tbody tr th:only-of-type {\n",
       "        vertical-align: middle;\n",
       "    }\n",
       "\n",
       "    .dataframe tbody tr th {\n",
       "        vertical-align: top;\n",
       "    }\n",
       "\n",
       "    .dataframe thead th {\n",
       "        text-align: right;\n",
       "    }\n",
       "</style>\n",
       "<table border=\"1\" class=\"dataframe\">\n",
       "  <thead>\n",
       "    <tr style=\"text-align: right;\">\n",
       "      <th></th>\n",
       "      <th>country</th>\n",
       "      <th>2020</th>\n",
       "    </tr>\n",
       "  </thead>\n",
       "  <tbody>\n",
       "    <tr>\n",
       "      <th>0</th>\n",
       "      <td>Afghanistan</td>\n",
       "      <td>1970</td>\n",
       "    </tr>\n",
       "    <tr>\n",
       "      <th>1</th>\n",
       "      <td>Angola</td>\n",
       "      <td>1520</td>\n",
       "    </tr>\n",
       "    <tr>\n",
       "      <th>2</th>\n",
       "      <td>Albania</td>\n",
       "      <td>3560</td>\n",
       "    </tr>\n",
       "    <tr>\n",
       "      <th>3</th>\n",
       "      <td>United Arab Emirates</td>\n",
       "      <td>35.3k</td>\n",
       "    </tr>\n",
       "    <tr>\n",
       "      <th>4</th>\n",
       "      <td>Argentina</td>\n",
       "      <td>12.1k</td>\n",
       "    </tr>\n",
       "  </tbody>\n",
       "</table>\n",
       "</div>"
      ],
      "text/plain": [
       "                country   2020\n",
       "0           Afghanistan   1970\n",
       "1                Angola   1520\n",
       "2               Albania   3560\n",
       "3  United Arab Emirates  35.3k\n",
       "4             Argentina  12.1k"
      ]
     },
     "execution_count": 54,
     "metadata": {},
     "output_type": "execute_result"
    }
   ],
   "source": [
    "income.head()"
   ]
  },
  {
   "cell_type": "markdown",
   "id": "153b01b8",
   "metadata": {},
   "source": [
    "To fix this, we will create a <b>function</b> that finds and converts these values of k to 1000, and multiplies it properly:"
   ]
  },
  {
   "cell_type": "code",
   "execution_count": 55,
   "id": "afb0c29c",
   "metadata": {
    "scrolled": true
   },
   "outputs": [
    {
     "data": {
      "text/html": [
       "<div>\n",
       "<style scoped>\n",
       "    .dataframe tbody tr th:only-of-type {\n",
       "        vertical-align: middle;\n",
       "    }\n",
       "\n",
       "    .dataframe tbody tr th {\n",
       "        vertical-align: top;\n",
       "    }\n",
       "\n",
       "    .dataframe thead th {\n",
       "        text-align: right;\n",
       "    }\n",
       "</style>\n",
       "<table border=\"1\" class=\"dataframe\">\n",
       "  <thead>\n",
       "    <tr style=\"text-align: right;\">\n",
       "      <th></th>\n",
       "      <th>country</th>\n",
       "      <th>income</th>\n",
       "    </tr>\n",
       "  </thead>\n",
       "  <tbody>\n",
       "    <tr>\n",
       "      <th>0</th>\n",
       "      <td>Afghanistan</td>\n",
       "      <td>1970</td>\n",
       "    </tr>\n",
       "    <tr>\n",
       "      <th>1</th>\n",
       "      <td>Angola</td>\n",
       "      <td>1520</td>\n",
       "    </tr>\n",
       "    <tr>\n",
       "      <th>2</th>\n",
       "      <td>Albania</td>\n",
       "      <td>3560</td>\n",
       "    </tr>\n",
       "    <tr>\n",
       "      <th>3</th>\n",
       "      <td>United Arab Emirates</td>\n",
       "      <td>35300</td>\n",
       "    </tr>\n",
       "    <tr>\n",
       "      <th>4</th>\n",
       "      <td>Argentina</td>\n",
       "      <td>12100</td>\n",
       "    </tr>\n",
       "    <tr>\n",
       "      <th>5</th>\n",
       "      <td>Armenia</td>\n",
       "      <td>2850</td>\n",
       "    </tr>\n",
       "    <tr>\n",
       "      <th>6</th>\n",
       "      <td>Antigua and Barbuda</td>\n",
       "      <td>12000</td>\n",
       "    </tr>\n",
       "    <tr>\n",
       "      <th>7</th>\n",
       "      <td>Australia</td>\n",
       "      <td>22800</td>\n",
       "    </tr>\n",
       "    <tr>\n",
       "      <th>8</th>\n",
       "      <td>Austria</td>\n",
       "      <td>20800</td>\n",
       "    </tr>\n",
       "    <tr>\n",
       "      <th>9</th>\n",
       "      <td>Azerbaijan</td>\n",
       "      <td>4830</td>\n",
       "    </tr>\n",
       "  </tbody>\n",
       "</table>\n",
       "</div>"
      ],
      "text/plain": [
       "                country  income\n",
       "0           Afghanistan    1970\n",
       "1                Angola    1520\n",
       "2               Albania    3560\n",
       "3  United Arab Emirates   35300\n",
       "4             Argentina   12100\n",
       "5               Armenia    2850\n",
       "6   Antigua and Barbuda   12000\n",
       "7             Australia   22800\n",
       "8               Austria   20800\n",
       "9            Azerbaijan    4830"
      ]
     },
     "execution_count": 55,
     "metadata": {},
     "output_type": "execute_result"
    }
   ],
   "source": [
    "def k_converter(x):\n",
    "    y = 0\n",
    "    conversion = {'K':1000, 'k':1000}\n",
    "    if x != 'na':\n",
    "        x = str(x)\n",
    "    if x.isdigit():\n",
    "        y = int(x)\n",
    "    else:\n",
    "        if len(x) > 1:\n",
    "            y = float(x[:-1]) * conversion.get(x[-1].upper(), 1)\n",
    "    return int(y)\n",
    "\n",
    "i['income'] = i['income'].map(k_converter)\n",
    "\n",
    "i.head(10)"
   ]
  },
  {
   "cell_type": "markdown",
   "id": "d4877cc6",
   "metadata": {},
   "source": [
    "Just to be safe, and to have a record of our modified income datatable, lets export this as a seperate CSV and reupload it."
   ]
  },
  {
   "cell_type": "code",
   "execution_count": 56,
   "id": "36b0794d",
   "metadata": {
    "scrolled": true
   },
   "outputs": [
    {
     "data": {
      "text/html": [
       "<div>\n",
       "<style scoped>\n",
       "    .dataframe tbody tr th:only-of-type {\n",
       "        vertical-align: middle;\n",
       "    }\n",
       "\n",
       "    .dataframe tbody tr th {\n",
       "        vertical-align: top;\n",
       "    }\n",
       "\n",
       "    .dataframe thead th {\n",
       "        text-align: right;\n",
       "    }\n",
       "</style>\n",
       "<table border=\"1\" class=\"dataframe\">\n",
       "  <thead>\n",
       "    <tr style=\"text-align: right;\">\n",
       "      <th></th>\n",
       "      <th>country</th>\n",
       "      <th>income</th>\n",
       "    </tr>\n",
       "  </thead>\n",
       "  <tbody>\n",
       "    <tr>\n",
       "      <th>0</th>\n",
       "      <td>Afghanistan</td>\n",
       "      <td>1970</td>\n",
       "    </tr>\n",
       "    <tr>\n",
       "      <th>1</th>\n",
       "      <td>Angola</td>\n",
       "      <td>1520</td>\n",
       "    </tr>\n",
       "    <tr>\n",
       "      <th>2</th>\n",
       "      <td>Albania</td>\n",
       "      <td>3560</td>\n",
       "    </tr>\n",
       "    <tr>\n",
       "      <th>3</th>\n",
       "      <td>United Arab Emirates</td>\n",
       "      <td>35300</td>\n",
       "    </tr>\n",
       "    <tr>\n",
       "      <th>4</th>\n",
       "      <td>Argentina</td>\n",
       "      <td>12100</td>\n",
       "    </tr>\n",
       "  </tbody>\n",
       "</table>\n",
       "</div>"
      ],
      "text/plain": [
       "                country  income\n",
       "0           Afghanistan    1970\n",
       "1                Angola    1520\n",
       "2               Albania    3560\n",
       "3  United Arab Emirates   35300\n",
       "4             Argentina   12100"
      ]
     },
     "execution_count": 56,
     "metadata": {},
     "output_type": "execute_result"
    }
   ],
   "source": [
    "i.to_csv('cleaned_income.csv', index=False)\n",
    "i2 = pd.read_csv('cleaned_income.csv', sep = ',')\n",
    "i2.head()"
   ]
  },
  {
   "cell_type": "markdown",
   "id": "f3ea1089",
   "metadata": {},
   "source": [
    "### Appending Data:\n",
    "Now, we will want to merge all of data into one dataframe. I do this with a series of joins. We will call this combined dataframe 'metrics.' I then export the file for safekeeping."
   ]
  },
  {
   "cell_type": "code",
   "execution_count": 57,
   "id": "75b00a80",
   "metadata": {
    "scrolled": true
   },
   "outputs": [
    {
     "data": {
      "text/html": [
       "<div>\n",
       "<style scoped>\n",
       "    .dataframe tbody tr th:only-of-type {\n",
       "        vertical-align: middle;\n",
       "    }\n",
       "\n",
       "    .dataframe tbody tr th {\n",
       "        vertical-align: top;\n",
       "    }\n",
       "\n",
       "    .dataframe thead th {\n",
       "        text-align: right;\n",
       "    }\n",
       "</style>\n",
       "<table border=\"1\" class=\"dataframe\">\n",
       "  <thead>\n",
       "    <tr style=\"text-align: right;\">\n",
       "      <th></th>\n",
       "      <th>country</th>\n",
       "      <th>happiness</th>\n",
       "      <th>income</th>\n",
       "      <th>life expectancy</th>\n",
       "      <th>gini</th>\n",
       "    </tr>\n",
       "  </thead>\n",
       "  <tbody>\n",
       "    <tr>\n",
       "      <th>0</th>\n",
       "      <td>Afghanistan</td>\n",
       "      <td>24.0</td>\n",
       "      <td>1970.0</td>\n",
       "      <td>64.0</td>\n",
       "      <td>39.0</td>\n",
       "    </tr>\n",
       "    <tr>\n",
       "      <th>1</th>\n",
       "      <td>Angola</td>\n",
       "      <td>NaN</td>\n",
       "      <td>1520.0</td>\n",
       "      <td>65.8</td>\n",
       "      <td>53.0</td>\n",
       "    </tr>\n",
       "    <tr>\n",
       "      <th>2</th>\n",
       "      <td>Albania</td>\n",
       "      <td>52.0</td>\n",
       "      <td>3560.0</td>\n",
       "      <td>78.7</td>\n",
       "      <td>34.5</td>\n",
       "    </tr>\n",
       "    <tr>\n",
       "      <th>3</th>\n",
       "      <td>Andorra</td>\n",
       "      <td>NaN</td>\n",
       "      <td>NaN</td>\n",
       "      <td>NaN</td>\n",
       "      <td>35.0</td>\n",
       "    </tr>\n",
       "    <tr>\n",
       "      <th>4</th>\n",
       "      <td>United Arab Emirates</td>\n",
       "      <td>65.8</td>\n",
       "      <td>35300.0</td>\n",
       "      <td>74.2</td>\n",
       "      <td>26.7</td>\n",
       "    </tr>\n",
       "    <tr>\n",
       "      <th>...</th>\n",
       "      <td>...</td>\n",
       "      <td>...</td>\n",
       "      <td>...</td>\n",
       "      <td>...</td>\n",
       "      <td>...</td>\n",
       "    </tr>\n",
       "    <tr>\n",
       "      <th>95</th>\n",
       "      <td>South Korea</td>\n",
       "      <td>59.4</td>\n",
       "      <td>17600.0</td>\n",
       "      <td>83.2</td>\n",
       "      <td>32.1</td>\n",
       "    </tr>\n",
       "    <tr>\n",
       "      <th>96</th>\n",
       "      <td>Kuwait</td>\n",
       "      <td>61.1</td>\n",
       "      <td>17300.0</td>\n",
       "      <td>81.7</td>\n",
       "      <td>36.1</td>\n",
       "    </tr>\n",
       "    <tr>\n",
       "      <th>97</th>\n",
       "      <td>Lao</td>\n",
       "      <td>51.4</td>\n",
       "      <td>2210.0</td>\n",
       "      <td>69.6</td>\n",
       "      <td>38.8</td>\n",
       "    </tr>\n",
       "    <tr>\n",
       "      <th>98</th>\n",
       "      <td>Lebanon</td>\n",
       "      <td>29.6</td>\n",
       "      <td>7160.0</td>\n",
       "      <td>76.8</td>\n",
       "      <td>33.1</td>\n",
       "    </tr>\n",
       "    <tr>\n",
       "      <th>99</th>\n",
       "      <td>Liberia</td>\n",
       "      <td>51.2</td>\n",
       "      <td>1030.0</td>\n",
       "      <td>66.7</td>\n",
       "      <td>36.8</td>\n",
       "    </tr>\n",
       "  </tbody>\n",
       "</table>\n",
       "<p>100 rows × 5 columns</p>\n",
       "</div>"
      ],
      "text/plain": [
       "                 country  happiness   income  life expectancy  gini\n",
       "0            Afghanistan       24.0   1970.0             64.0  39.0\n",
       "1                 Angola        NaN   1520.0             65.8  53.0\n",
       "2                Albania       52.0   3560.0             78.7  34.5\n",
       "3                Andorra        NaN      NaN              NaN  35.0\n",
       "4   United Arab Emirates       65.8  35300.0             74.2  26.7\n",
       "..                   ...        ...      ...              ...   ...\n",
       "95           South Korea       59.4  17600.0             83.2  32.1\n",
       "96                Kuwait       61.1  17300.0             81.7  36.1\n",
       "97                   Lao       51.4   2210.0             69.6  38.8\n",
       "98               Lebanon       29.6   7160.0             76.8  33.1\n",
       "99               Liberia       51.2   1030.0             66.7  36.8\n",
       "\n",
       "[100 rows x 5 columns]"
      ]
     },
     "execution_count": 57,
     "metadata": {},
     "output_type": "execute_result"
    }
   ],
   "source": [
    "j1 = pd.merge(h,i2, on ='country',how='right')\n",
    "j2 = pd.merge(j1,l, on ='country',how='right')\n",
    "j3 = pd.merge(j2,g, on ='country',how='right')\n",
    "\n",
    "metrics = j3\n",
    "metrics.to_csv('sorted_gapminder_metrics.csv', index=False)\n",
    "metrics.head(100)"
   ]
  },
  {
   "cell_type": "markdown",
   "id": "3c7f4ea9",
   "metadata": {},
   "source": [
    "### Exploratory Data Analysis\n",
    "Now, let's make some simple graphs to see if there is a general correlation between income, life expectancy, and inequality. "
   ]
  },
  {
   "cell_type": "code",
   "execution_count": 58,
   "id": "186bb40b",
   "metadata": {},
   "outputs": [
    {
     "data": {
      "image/png": "[encoded data removed]",
      "text/plain": [
       "<Figure size 640x480 with 1 Axes>"
      ]
     },
     "metadata": {},
     "output_type": "display_data"
    }
   ],
   "source": [
    "metrics.plot(x='happiness', y='income', kind=\"scatter\");"
   ]
  },
  {
   "cell_type": "code",
   "execution_count": 59,
   "id": "f7a7aea0",
   "metadata": {},
   "outputs": [
    {
     "data": {
      "image/png": "[encoded data removed]",
      "text/plain": [
       "<Figure size 640x480 with 1 Axes>"
      ]
     },
     "metadata": {},
     "output_type": "display_data"
    }
   ],
   "source": [
    "metrics.plot(x='happiness', y='life expectancy', kind=\"scatter\");"
   ]
  },
  {
   "cell_type": "code",
   "execution_count": 60,
   "id": "cfef5eff",
   "metadata": {},
   "outputs": [
    {
     "data": {
      "image/png": "[encoded data removed]",
      "text/plain": [
       "<Figure size 640x480 with 1 Axes>"
      ]
     },
     "metadata": {},
     "output_type": "display_data"
    }
   ],
   "source": [
    "metrics.plot(x='happiness', y='gini', kind=\"scatter\");"
   ]
  },
  {
   "cell_type": "markdown",
   "id": "5d235b4f",
   "metadata": {},
   "source": [
    "It looks like there definitely is a positive correlation between income, life expectancy, gini, and happiness. Notice that because our GINI coefficient is measured with a high number meaning high inequality, this data set creates a bit of a inverted correlation.\n",
    "\n",
    "### Research question - which correlation is the <i>strongest</i>?\n",
    "\n",
    "In the next cell, we will get our dataframes ready for some deeper analysis. To find which correlation is the strongest, we will need to find the R coefficient of each scatterplot. To find things such as the R value of a dataset, the arrays must be the same size. For the sake of this, we will be stripping out any NaN or Null values:"
   ]
  },
  {
   "cell_type": "code",
   "execution_count": 72,
   "id": "3ad50b3d",
   "metadata": {
    "scrolled": false
   },
   "outputs": [
    {
     "data": {
      "text/html": [
       "<div>\n",
       "<style scoped>\n",
       "    .dataframe tbody tr th:only-of-type {\n",
       "        vertical-align: middle;\n",
       "    }\n",
       "\n",
       "    .dataframe tbody tr th {\n",
       "        vertical-align: top;\n",
       "    }\n",
       "\n",
       "    .dataframe thead th {\n",
       "        text-align: right;\n",
       "    }\n",
       "</style>\n",
       "<table border=\"1\" class=\"dataframe\">\n",
       "  <thead>\n",
       "    <tr style=\"text-align: right;\">\n",
       "      <th></th>\n",
       "      <th>country</th>\n",
       "      <th>happiness</th>\n",
       "      <th>income</th>\n",
       "      <th>life expectancy</th>\n",
       "      <th>gini</th>\n",
       "    </tr>\n",
       "  </thead>\n",
       "  <tbody>\n",
       "    <tr>\n",
       "      <th>0</th>\n",
       "      <td>Afghanistan</td>\n",
       "      <td>24.0</td>\n",
       "      <td>1970.0</td>\n",
       "      <td>64.0</td>\n",
       "      <td>39.0</td>\n",
       "    </tr>\n",
       "    <tr>\n",
       "      <th>2</th>\n",
       "      <td>Albania</td>\n",
       "      <td>52.0</td>\n",
       "      <td>3560.0</td>\n",
       "      <td>78.7</td>\n",
       "      <td>34.5</td>\n",
       "    </tr>\n",
       "    <tr>\n",
       "      <th>4</th>\n",
       "      <td>United Arab Emirates</td>\n",
       "      <td>65.8</td>\n",
       "      <td>35300.0</td>\n",
       "      <td>74.2</td>\n",
       "      <td>26.7</td>\n",
       "    </tr>\n",
       "    <tr>\n",
       "      <th>5</th>\n",
       "      <td>Argentina</td>\n",
       "      <td>59.7</td>\n",
       "      <td>12100.0</td>\n",
       "      <td>76.9</td>\n",
       "      <td>44.6</td>\n",
       "    </tr>\n",
       "    <tr>\n",
       "      <th>6</th>\n",
       "      <td>Armenia</td>\n",
       "      <td>54.0</td>\n",
       "      <td>2850.0</td>\n",
       "      <td>76.0</td>\n",
       "      <td>31.2</td>\n",
       "    </tr>\n",
       "  </tbody>\n",
       "</table>\n",
       "</div>"
      ],
      "text/plain": [
       "                country  happiness   income  life expectancy  gini\n",
       "0           Afghanistan       24.0   1970.0             64.0  39.0\n",
       "2               Albania       52.0   3560.0             78.7  34.5\n",
       "4  United Arab Emirates       65.8  35300.0             74.2  26.7\n",
       "5             Argentina       59.7  12100.0             76.9  44.6\n",
       "6               Armenia       54.0   2850.0             76.0  31.2"
      ]
     },
     "execution_count": 72,
     "metadata": {},
     "output_type": "execute_result"
    }
   ],
   "source": [
    "m = metrics.dropna()\n",
    "m.head()"
   ]
  },
  {
   "cell_type": "markdown",
   "id": "2750cfda",
   "metadata": {},
   "source": [
    "Below, we will find the R coefficient of the 3 data types and use them to make lines, to see which value has the highest correl;ation with happiness."
   ]
  },
  {
   "cell_type": "code",
   "execution_count": 154,
   "id": "b8a1901f",
   "metadata": {
    "scrolled": true
   },
   "outputs": [
    {
     "name": "stdout",
     "output_type": "stream",
     "text": [
      "0.7181659617277288 0.7480646123968937 0.3537148343351587\n"
     ]
    }
   ],
   "source": [
    "import scipy.stats\n",
    "hi = scipy.stats.linregress(m['happiness'], m['income'])\n",
    "hl = scipy.stats.linregress(m['happiness'], m['life expectancy'])\n",
    "hg = scipy.stats.linregress(m['happiness'], m['gini'])\n",
    "ir2 = hi.rvalue\n",
    "lr2 = hl.rvalue\n",
    "gr2 = hg.rvalue * -1 #because our GINI correlation would be high-to-low by default\n",
    "\n",
    "print(ir2,lr2,gr2)"
   ]
  },
  {
   "cell_type": "markdown",
   "id": "d17e8910",
   "metadata": {},
   "source": [
    "Finally, we will append some line plots on top of our scatter chart to visualize the correlations.\n",
    "\n",
    "While I am still a beginner in data science and rusty in my statistics skills, I believe I have enough data available to at least answer our research question."
   ]
  },
  {
   "cell_type": "code",
   "execution_count": 156,
   "id": "57e83ebe",
   "metadata": {},
   "outputs": [
    {
     "data": {
      "image/png": "[encoded data removed]",
      "text/plain": [
       "<Figure size 640x480 with 1 Axes>"
      ]
     },
     "metadata": {},
     "output_type": "display_data"
    }
   ],
   "source": [
    "#finding parameters of scale for line plots\n",
    "from statistics import mean\n",
    "meanh = mean(m['happiness'])\n",
    "maxh = max(m['happiness'])\n",
    "maxi = max(m['income'])\n",
    "\n",
    "plt.title('Happiness vs. Life Expectancy (Red), Income(Green), GINI(Cyan)')\n",
    "plt.xlabel('Percent of happiness')\n",
    "plt.ylabel('Income, in yearly salary')\n",
    "x1 = np.linspace(meanh, maxh, 50) #linspace to extend our lines\n",
    "y1 = np.linspace(0, gr2*maxi, 50)\n",
    "plt.plot(x1, y1, c = 'c')  \n",
    "x1 = np.linspace(meanh, maxh, 50)\n",
    "y1 = np.linspace(0, ir2*maxi, 50)\n",
    "plt.plot(x1, y1)\n",
    "x1 = np.linspace(meanh, maxh, 50)\n",
    "y1 = np.linspace(0, lr2*maxi, 50)\n",
    "plt.plot(x1, y1, c = 'r') \n",
    "plt.scatter(m['happiness'], m['income'])\n",
    "plt.show()"
   ]
  },
  {
   "cell_type": "markdown",
   "id": "f5495308",
   "metadata": {},
   "source": [
    "### Conclusions\n",
    "The above graph does enough to answer the question of, which factor affects happiness the most. Life Expectancy narrowly takes the crown!\n",
    "\n",
    "In my first purview of the data, I had originally predicted income to be the largest driver of happiness globally, not from any biases but from my first few glances over the data, where countries with vastly higher income did indeed have higher scores.\n",
    "\n",
    "That being said, there are many outliers. Japan, for instance, measures highly in every statistic <i>except</i> happiness."
   ]
  },
  {
   "cell_type": "code",
   "execution_count": 179,
   "id": "d6847f8b",
   "metadata": {},
   "outputs": [
    {
     "name": "stdout",
     "output_type": "stream",
     "text": [
      "    country  happiness  income  life expectancy  gini\n",
      "75  Croatia       61.3  7740.0             79.0  31.1\n",
      "    country  happiness   income  life expectancy  gini\n",
      "83  Iceland       75.6  20700.0             84.4  26.1\n",
      "   country  happiness   income  life expectancy  gini\n",
      "88   Japan       60.4  15800.0             85.1  34.3\n"
     ]
    }
   ],
   "source": [
    "print(m.iloc[['52']])\n",
    "print(m.iloc[['59']])\n",
    "print(m.iloc[['64']])"
   ]
  },
  {
   "cell_type": "markdown",
   "id": "deb1d89d",
   "metadata": {},
   "source": [
    "Additionally, I believed that inequality would have had a larger impact than life expectancy, but I suppose regardless of your neighbor's health, you have to be alive to be happy.\n",
    "\n",
    "In conclusion, these many outliers made this data impossible to analyze with the naked eye and required mathematical correlations to solve our research question, and now we know that life expectancy is one of the biggest drivers of global happiness. Thanks for checking out my project! - Matt"
   ]
  },
  {
   "cell_type": "code",
   "execution_count": null,
   "id": "ffb74e0e",
   "metadata": {},
   "outputs": [],
   "source": []
  }
 ],
 "metadata": {
  "kernelspec": {
   "display_name": "Python 3 (ipykernel)",
   "language": "python",
   "name": "python3"
  },
  "language_info": {
   "codemirror_mode": {
    "name": "ipython",
    "version": 3
   },
   "file_extension": ".py",
   "mimetype": "text/x-python",
   "name": "python",
   "nbconvert_exporter": "python",
   "pygments_lexer": "ipython3",
   "version": "3.9.13"
  }
 },
 "nbformat": 4,
 "nbformat_minor": 5
}
